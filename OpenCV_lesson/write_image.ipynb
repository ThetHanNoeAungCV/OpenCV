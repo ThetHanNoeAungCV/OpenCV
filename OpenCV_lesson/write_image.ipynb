{
 "cells": [
  {
   "cell_type": "code",
   "execution_count": null,
   "id": "6408519b",
   "metadata": {},
   "outputs": [
    {
     "name": "stdout",
     "output_type": "stream",
     "text": [
      "(300, 500, 3)\n"
     ]
    }
   ],
   "source": [
    "import cv2\n",
    "import numpy as np\n",
    "\n",
    "image = cv2.imread(\"red_panda.jpg\")\n",
    "shape = image.shape\n",
    "print(shape)\n",
    "\n",
    "blue = (255, 0, 0)\n",
    "red = (0, 0, 255)\n",
    "green = (0, 255, 0)\n",
    "violet = (180, 0, 180)\n",
    "yellow = (0, 180, 180)\n",
    "white = (225, 255, 255)\n",
    "\n",
    "cv2.line(image, (50, 30), (450, 35), blue, thickness=5)\n",
    "cv2.circle(image, (240,205), 23, red, -1)\n",
    "cv2.rectangle(image, (50, 60), (450, 95), green, -1)\n",
    "cv2.ellipse(image, (250, 150), (80, 20), 0, 0, 360, violet, -1)\n",
    "points = np.array([[[140, 230], [380, 230], [320, 250], [250, 280]]], np.int32)\n",
    "cv2.polylines(image, [points], True, yellow, thickness=3)\n",
    "font = cv2.FONT_HERSHEY_TRIPLEX\n",
    "cv2.putText(image, \"Panda\", (20, 100), font, 4, white)\n",
    "\n",
    "cv2.imshow(\"red panda\", image)\n",
    "cv2.waitKey(0)\n",
    "cv2.destoryAllWindows()"
   ]
  }
 ],
 "metadata": {
  "kernelspec": {
   "display_name": "Python 3 (ipykernel)",
   "language": "python",
   "name": "python3"
  },
  "language_info": {
   "codemirror_mode": {
    "name": "ipython",
    "version": 3
   },
   "file_extension": ".py",
   "mimetype": "text/x-python",
   "name": "python",
   "nbconvert_exporter": "python",
   "pygments_lexer": "ipython3",
   "version": "3.9.16"
  }
 },
 "nbformat": 4,
 "nbformat_minor": 5
}
