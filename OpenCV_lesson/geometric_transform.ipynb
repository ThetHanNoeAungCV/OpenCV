{
 "cells": [
  {
   "cell_type": "code",
   "execution_count": null,
   "id": "320081d5",
   "metadata": {},
   "outputs": [
    {
     "name": "stdout",
     "output_type": "stream",
     "text": [
      "Height:  300\n",
      "Width:  500\n"
     ]
    }
   ],
   "source": [
    "import cv2\n",
    "import numpy as np\n",
    "\n",
    "img = cv2.imread(\"red_panda.jpg\")\n",
    "rows, cols, ch = img.shape\n",
    "\n",
    "print(\"Height: \", rows)\n",
    "print(\"Width: \", cols)\n",
    "\n",
    "scaled_img = cv2.resize(img, None, fx=1/2, fy=1/2)\n",
    "\n",
    "matrix_t = np.float32([[1, 0, -100], [0, 1, -30]])\n",
    "translated_img = cv2.warpAffine(img, matrix_t, (cols, rows))\n",
    "\n",
    "matrix_r = cv2.getRotationMatrix2D((cols/2, rows/2), 90, 0.5)\n",
    "rotated_img = cv2.warpAffine(img, matrix_r, (cols, rows))\n",
    "\n",
    "cv2.imshow(\"Original image\", img)\n",
    "cv2.imshow(\"Scaled image\", scaled_img)\n",
    "cv2.imshow(\"Translated image\", translated_img)\n",
    "cv2.imshow(\"Rotated image\", rotated_img)\n",
    "cv2.waitKey(0)\n",
    "cv2.destroyAllWindows()"
   ]
  }
 ],
 "metadata": {
  "kernelspec": {
   "display_name": "Python 3 (ipykernel)",
   "language": "python",
   "name": "python3"
  },
  "language_info": {
   "codemirror_mode": {
    "name": "ipython",
    "version": 3
   },
   "file_extension": ".py",
   "mimetype": "text/x-python",
   "name": "python",
   "nbconvert_exporter": "python",
   "pygments_lexer": "ipython3",
   "version": "3.9.16"
  }
 },
 "nbformat": 4,
 "nbformat_minor": 5
}
