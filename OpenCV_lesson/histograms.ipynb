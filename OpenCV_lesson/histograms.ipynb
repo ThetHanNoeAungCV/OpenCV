{
 "cells": [
  {
   "cell_type": "code",
   "execution_count": null,
   "id": "e996e0e7",
   "metadata": {},
   "outputs": [],
   "source": [
    "import cv2\n",
    "import numpy as np\n",
    "from matplotlib import pyplot as plt\n",
    "\n",
    "img = cv2.imread(\"sea_beach.jpg\")\n",
    "b, g, r = cv2.split(img)\n",
    "\n",
    "cv2.imshow(\"img\", img)\n",
    "cv2.imshow(\"b\", b)\n",
    "cv2.imshow(\"g\", g)\n",
    "cv2.imshow(\"r\", r)\n",
    "\n",
    "plt.hist(b.ravel(), 256, [0, 256])\n",
    "plt.hist(g.ravel(), 256, [0, 256])\n",
    "plt.hist(r.ravel(), 256, [1, 256])\n",
    "plt.show()"
   ]
  },
  {
   "cell_type": "code",
   "execution_count": null,
   "id": "be95c44f",
   "metadata": {},
   "outputs": [],
   "source": []
  }
 ],
 "metadata": {
  "kernelspec": {
   "display_name": "Python 3 (ipykernel)",
   "language": "python",
   "name": "python3"
  },
  "language_info": {
   "codemirror_mode": {
    "name": "ipython",
    "version": 3
   },
   "file_extension": ".py",
   "mimetype": "text/x-python",
   "name": "python",
   "nbconvert_exporter": "python",
   "pygments_lexer": "ipython3",
   "version": "3.9.16"
  }
 },
 "nbformat": 4,
 "nbformat_minor": 5
}
