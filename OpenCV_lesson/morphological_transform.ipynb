{
 "cells": [
  {
   "cell_type": "markdown",
   "id": "650a9a60",
   "metadata": {},
   "source": [
    "# example1"
   ]
  },
  {
   "cell_type": "code",
   "execution_count": null,
   "id": "a92d5eca",
   "metadata": {},
   "outputs": [],
   "source": [
    "import cv2\n",
    "import numpy as np \n",
    "\n",
    "img = cv2.imread (\"orange.jpg\", cv2.IMREAD_GRAYSCALE)\n",
    "_, mask = cv2.threshold(img, 230, 255, cv2.THRESH_BINARY_INV)\n",
    "\n",
    "kernel = np.ones((5,5), np.uint8)\n",
    "dilation = cv2.dilate(mask, kernel)\n",
    "\n",
    "cv2.imshow(\"Image\", img)\n",
    "cv2.imshow(\"Mask\", mask)\n",
    "cv2.imshow(\"Dilation\", dilation)\n",
    "cv2.waitKey(0)\n",
    "cv2.destroyAllWindows()"
   ]
  },
  {
   "cell_type": "markdown",
   "id": "5da39f07",
   "metadata": {},
   "source": [
    " # example2"
   ]
  },
  {
   "cell_type": "code",
   "execution_count": null,
   "id": "8b029550",
   "metadata": {},
   "outputs": [],
   "source": [
    "import cv2\n",
    "import numpy as np \n",
    "\n",
    "img = cv2.imread (\"balls.jpg\", cv2.IMREAD_GRAYSCALE)\n",
    "_, mask = cv2.threshold(img, 230, 255, cv2.THRESH_BINARY_INV)\n",
    "\n",
    "kernel = np.ones((5,5), np.uint8)\n",
    "dilation = cv2.dilate(mask, kernel)\n",
    "erosion = cv2.erode(mask,kernel, iterations=6)\n",
    "\n",
    "cv2.imshow(\"Image\", img)\n",
    "cv2.imshow(\"Mask\", mask)\n",
    "cv2.imshow(\"Dilation\", dilation)\n",
    "cv2.imshow(\"Erosion\", erosion)\n",
    "cv2.waitKey(0)\n",
    "cv2.destroyAllWindows()"
   ]
  }
 ],
 "metadata": {
  "kernelspec": {
   "display_name": "Python 3 (ipykernel)",
   "language": "python",
   "name": "python3"
  },
  "language_info": {
   "codemirror_mode": {
    "name": "ipython",
    "version": 3
   },
   "file_extension": ".py",
   "mimetype": "text/x-python",
   "name": "python",
   "nbconvert_exporter": "python",
   "pygments_lexer": "ipython3",
   "version": "3.9.16"
  }
 },
 "nbformat": 4,
 "nbformat_minor": 5
}
