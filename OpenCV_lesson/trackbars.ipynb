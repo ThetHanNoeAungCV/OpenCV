{
 "cells": [
  {
   "cell_type": "code",
   "execution_count": null,
   "id": "51976d94",
   "metadata": {},
   "outputs": [],
   "source": [
    "import cv2\n",
    "import numpy as np\n",
    "\n",
    "def nothing(x):\n",
    "    pass\n",
    "\n",
    "cap = cv2.VideoCapture(0)\n",
    "\n",
    "cv2.namedWindow(\"frame\")\n",
    "cv2.createTrackbar(\"test\", \"frame\", 50, 500, nothing)\n",
    "cv2.createTrackbar(\"color/gray\", \"frame\", 0, 1, nothing)\n",
    "\n",
    "while True:\n",
    "    _, frame = cap.read()\n",
    "\n",
    "    test = cv2.getTrackbarPos(\"test\", \"frame\")\n",
    "    font = cv2.FONT_HERSHEY_COMPLEX\n",
    "    cv2.putText(frame, str(test), (50, 150), font, 4, (0, 0, 255))\n",
    "\n",
    "    s = cv2.getTrackbarPos(\"color/gray\", \"frame\")\n",
    "    if s == 0:\n",
    "        pass\n",
    "    else:\n",
    "        frame = cv2.cvtColor(frame, cv2.COLOR_BGR2GRAY)\n",
    "\n",
    "    cv2.imshow(\"frame\", frame)\n",
    "\n",
    "    key = cv2.waitKey(1)\n",
    "    if key == 27:\n",
    "        break\n",
    "\n",
    "cap.release()\n",
    "cv2.destroyAllWindows()"
   ]
  }
 ],
 "metadata": {
  "kernelspec": {
   "display_name": "Python 3 (ipykernel)",
   "language": "python",
   "name": "python3"
  },
  "language_info": {
   "codemirror_mode": {
    "name": "ipython",
    "version": 3
   },
   "file_extension": ".py",
   "mimetype": "text/x-python",
   "name": "python",
   "nbconvert_exporter": "python",
   "pygments_lexer": "ipython3",
   "version": "3.9.16"
  }
 },
 "nbformat": 4,
 "nbformat_minor": 5
}
