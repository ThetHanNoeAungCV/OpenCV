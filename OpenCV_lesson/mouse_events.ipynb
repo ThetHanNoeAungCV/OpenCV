{
 "cells": [
  {
   "cell_type": "markdown",
   "id": "03b16056",
   "metadata": {},
   "source": [
    "# draw circle"
   ]
  },
  {
   "cell_type": "code",
   "execution_count": null,
   "id": "41edc797",
   "metadata": {},
   "outputs": [],
   "source": [
    "import cv2\n",
    "import numpy as np\n",
    "\n",
    "def mouse_drawing(event, x, y, flags, params):\n",
    "    if event == cv2.EVENT_LBUTTONDOWN:\n",
    "        print(\"Left click\")\n",
    "        circles.append((x, y))\n",
    "\n",
    "cap = cv2.VideoCapture(0)\n",
    "\n",
    "cv2.namedWindow(\"Frame\")\n",
    "cv2.setMouseCallback(\"Frame\", mouse_drawing)\n",
    "\n",
    "circles = []\n",
    "while True:\n",
    "    _, frame = cap.read()\n",
    "\n",
    "    for center_position in circles:\n",
    "        cv2.circle(frame, center_position, 5, (0, 0, 255), -1)\n",
    "\n",
    "        cv2.imshow(\"Frame\", frame)\n",
    "\n",
    "    key = cv2.waitKey(1)\n",
    "    if key == 27:\n",
    "        break\n",
    "    elif key == ord(\"d\"):\n",
    "        circles = []\n",
    "\n",
    "cap.release()\n",
    "cv2.destroyAllWindows()"
   ]
  },
  {
   "cell_type": "markdown",
   "id": "9e0ed6e6",
   "metadata": {},
   "source": [
    "# draw rectangle"
   ]
  },
  {
   "cell_type": "code",
   "execution_count": null,
   "id": "95f40063",
   "metadata": {},
   "outputs": [],
   "source": [
    "import cv2\n",
    "import numpy as np\n",
    "\n",
    "drawing = False\n",
    "point1 = ()\n",
    "point2 = ()\n",
    "\n",
    "def mouse_drawing(event, x, y, flags, params):\n",
    "    global point1, point2, drawing\n",
    "    if event == cv2.EVENT_LBUTTONDOWN:\n",
    "        if drawing is False:\n",
    "            drawing = True\n",
    "            point1 = (x, y)\n",
    "        else:\n",
    "            drawing = False\n",
    "\n",
    "    elif event == cv2.EVENT_MOUSEMOVE:\n",
    "        if drawing is True:\n",
    "            point2 = (x, y)\n",
    "\n",
    "cap = cv2.VideoCapture(0)\n",
    "\n",
    "cv2.namedWindow(\"Frame\")\n",
    "cv2.setMouseCallback(\"Frame\", mouse_drawing)\n",
    "\n",
    "while True:\n",
    "    _, frame = cap.read()\n",
    "\n",
    "    if point1 and point2:\n",
    "        cv2.rectangle(frame, point1, point2, (0, 255, 0))\n",
    "\n",
    "        cv2.imshow(\"Frame\", frame)\n",
    "\n",
    "    key = cv2.waitKey(1)\n",
    "    if key == 27:\n",
    "        break\n",
    "\n",
    "cap.release()\n",
    "cv2.destroyAllWindows()"
   ]
  }
 ],
 "metadata": {
  "kernelspec": {
   "display_name": "Python 3 (ipykernel)",
   "language": "python",
   "name": "python3"
  },
  "language_info": {
   "codemirror_mode": {
    "name": "ipython",
    "version": 3
   },
   "file_extension": ".py",
   "mimetype": "text/x-python",
   "name": "python",
   "nbconvert_exporter": "python",
   "pygments_lexer": "ipython3",
   "version": "3.9.16"
  }
 },
 "nbformat": 4,
 "nbformat_minor": 5
}
