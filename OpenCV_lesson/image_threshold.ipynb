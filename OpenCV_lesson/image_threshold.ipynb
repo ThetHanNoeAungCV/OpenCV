{
 "cells": [
  {
   "cell_type": "code",
   "execution_count": null,
   "id": "22094dbd",
   "metadata": {},
   "outputs": [
    {
     "name": "stdout",
     "output_type": "stream",
     "text": [
      "[149 144 143]\n",
      "[255 255 255]\n"
     ]
    }
   ],
   "source": [
    "import cv2\n",
    "import numpy as np\n",
    "\n",
    "img1 = cv2.imread(\"road.jpg\")\n",
    "img2 = cv2.imread(\"car.jpg\")\n",
    "img2_gray = cv2.cvtColor(img2, cv2.COLOR_BGR2GRAY)\n",
    "\n",
    "print(img1[0, 0])\n",
    "print(img2[0, 0])\n",
    "\n",
    "weighted = cv2.addWeighted(img1, 1, img2, 0.1, 0)\n",
    "ret, threshold = cv2.threshold(img2_gray, 252, 255, cv2.THRESH_BINARY)\n",
    "\n",
    "sum = cv2.add(img1, img2)\n",
    "\n",
    "cv2.imshow(\"sum\", sum)\n",
    "cv2.imshow(\"threshold\", threshold)\n",
    "cv2.imshow(\"img2gray\", img2_gray)\n",
    "cv2.imshow(\"weighted\", weighted)\n",
    "cv2.imshow(\"img1\", img1)\n",
    "cv2.imshow(\"img2\", img2)\n",
    "cv2.waitKey(0)\n",
    "cv2.destroyAllWindows"
   ]
  }
 ],
 "metadata": {
  "kernelspec": {
   "display_name": "Python 3 (ipykernel)",
   "language": "python",
   "name": "python3"
  },
  "language_info": {
   "codemirror_mode": {
    "name": "ipython",
    "version": 3
   },
   "file_extension": ".py",
   "mimetype": "text/x-python",
   "name": "python",
   "nbconvert_exporter": "python",
   "pygments_lexer": "ipython3",
   "version": "3.9.16"
  }
 },
 "nbformat": 4,
 "nbformat_minor": 5
}
